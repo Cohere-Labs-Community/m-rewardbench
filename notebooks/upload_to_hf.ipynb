{
 "cells": [
  {
   "cell_type": "code",
   "execution_count": 21,
   "metadata": {},
   "outputs": [],
   "source": [
    "from datasets import get_dataset_config_names, load_dataset\n",
    "from datasets import DatasetDict, Dataset, Split"
   ]
  },
  {
   "cell_type": "code",
   "execution_count": 28,
   "metadata": {},
   "outputs": [],
   "source": [
    "def find_key(data: dict[str, list[str]], query: str) -> str | None:\n",
    "    return next((k for k, v in data.items() if query in v), None)\n",
    "SUBSET_MAPPING = {\n",
    "    \"Chat\": [\n",
    "        \"alpacaeval-easy\",\n",
    "        \"alpacaeval-length\",\n",
    "        \"alpacaeval-hard\",\n",
    "        \"mt-bench-easy\",\n",
    "        \"mt-bench-med\",\n",
    "    ],\n",
    "    \"Chat Hard\": [\n",
    "        \"mt-bench-hard\",\n",
    "        \"llmbar-natural\",\n",
    "        \"llmbar-adver-neighbor\",\n",
    "        \"llmbar-adver-GPTInst\",\n",
    "        \"llmbar-adver-GPTOut\",\n",
    "        \"llmbar-adver-manual\",\n",
    "    ],\n",
    "    \"Safety\": [\n",
    "        \"refusals-dangerous\",\n",
    "        \"refusals-offensive\",\n",
    "        \"xstest-should-refuse\",\n",
    "        \"xstest-should-respond\",\n",
    "        \"donotanswer\",\n",
    "    ],\n",
    "    \"Reasoning\": [\n",
    "        \"math-prm\",\n",
    "        \"hep-cpp\",\n",
    "        \"hep-go\",\n",
    "        \"hep-java\",\n",
    "        \"hep-js\",\n",
    "        \"hep-python\",\n",
    "        \"hep-rust\",\n",
    "    ],\n",
    "}"
   ]
  },
  {
   "cell_type": "code",
   "execution_count": 45,
   "metadata": {},
   "outputs": [
    {
     "name": "stdout",
     "output_type": "stream",
     "text": [
      "deu_Latn\n"
     ]
    },
    {
     "name": "stderr",
     "output_type": "stream",
     "text": [
      "Creating parquet from Arrow format: 100%|██████████| 3/3 [00:00<00:00, 167.44ba/s]\n",
      "Uploading the dataset shards: 100%|██████████| 1/1 [00:01<00:00,  1.43s/it]\n"
     ]
    }
   ],
   "source": [
    "import os\n",
    "os.environ[\"HF_TOKEN\"] = \"\"\n",
    "dest = \"C4AI-Community/multilingual-reward-bench\"\n",
    "source = \"aya-rm-multilingual/multilingual-reward-bench-gtranslate\"\n",
    "\n",
    "configs = get_dataset_config_names(source)\n",
    "order = [\"id\", \"target_language\", \"prompt\", \"chosen\", \"rejected\", \"chosen_model\", \"rejected_model\", \"subset\"]\n",
    "for config in configs:\n",
    "    if config == \"deu_Latn\":\n",
    "        print(config)\n",
    "        source_df = load_dataset(source, config)[\"filtered\"].to_pandas()\n",
    "        source_df = source_df[order].rename(columns={\"target_language\": \"language\", \"subset\": \"source\"})\n",
    "        source_df[\"category\"] = source_df[\"source\"].apply(lambda x: find_key(SUBSET_MAPPING, x))\n",
    "        new_ds = Dataset.from_pandas(source_df, split=Split.TEST)\n",
    "\n",
    "        new_ds.push_to_hub(dest, config_name=config, split=str(Split.TEST))"
   ]
  },
  {
   "cell_type": "code",
   "execution_count": 46,
   "metadata": {},
   "outputs": [
    {
     "name": "stderr",
     "output_type": "stream",
     "text": [
      "Generating filtered split: 800 examples [00:00, 35877.88 examples/s]\n"
     ]
    }
   ],
   "source": [
    "df = load_dataset(\"aya-rm-multilingual/multilingual-reward-bench-maple\", split=\"all\").to_pandas()"
   ]
  },
  {
   "cell_type": "code",
   "execution_count": 54,
   "metadata": {},
   "outputs": [],
   "source": [
    "df = df.drop(columns=\"id\").reset_index().rename(columns={\"index\": \"id\"})"
   ]
  },
  {
   "cell_type": "code",
   "execution_count": 57,
   "metadata": {},
   "outputs": [],
   "source": [
    "df[\"subset\"] = df[\"subset\"].apply(lambda x: x.replace(\"maple\", \"translation\"))"
   ]
  },
  {
   "cell_type": "code",
   "execution_count": 60,
   "metadata": {},
   "outputs": [],
   "source": [
    "ds = Dataset.from_pandas(df, split=\"translation\")"
   ]
  },
  {
   "cell_type": "code",
   "execution_count": 62,
   "metadata": {},
   "outputs": [
    {
     "name": "stderr",
     "output_type": "stream",
     "text": [
      "Creating parquet from Arrow format: 100%|██████████| 1/1 [00:00<00:00, 290.38ba/s]\n",
      "Uploading the dataset shards: 100%|██████████| 1/1 [00:01<00:00,  1.04s/it]\n"
     ]
    },
    {
     "data": {
      "text/plain": [
       "CommitInfo(commit_url='https://huggingface.co/datasets/C4AI-Community/multilingual-reward-bench/commit/711a1a1e051bea0610156df235405e26857263b0', commit_message='Upload dataset', commit_description='', oid='711a1a1e051bea0610156df235405e26857263b0', pr_url=None, repo_url=RepoUrl('https://huggingface.co/datasets/C4AI-Community/multilingual-reward-bench', endpoint='https://huggingface.co', repo_type='dataset', repo_id='C4AI-Community/multilingual-reward-bench'), pr_revision=None, pr_num=None)"
      ]
     },
     "execution_count": 62,
     "metadata": {},
     "output_type": "execute_result"
    }
   ],
   "source": [
    "ds.push_to_hub(dest, config_name=\"translation\", split=str(Split.TEST))"
   ]
  },
  {
   "cell_type": "code",
   "execution_count": null,
   "metadata": {},
   "outputs": [],
   "source": []
  }
 ],
 "metadata": {
  "kernelspec": {
   "display_name": "venv",
   "language": "python",
   "name": "python3"
  },
  "language_info": {
   "codemirror_mode": {
    "name": "ipython",
    "version": 3
   },
   "file_extension": ".py",
   "mimetype": "text/x-python",
   "name": "python",
   "nbconvert_exporter": "python",
   "pygments_lexer": "ipython3",
   "version": "3.10.12"
  }
 },
 "nbformat": 4,
 "nbformat_minor": 2
}
